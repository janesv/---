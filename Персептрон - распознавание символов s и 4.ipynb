{
 "cells": [
  {
   "cell_type": "markdown",
   "metadata": {},
   "source": [
    "# Персептрон\n",
    "## Распознавание символов S и 4"
   ]
  },
  {
   "cell_type": "markdown",
   "metadata": {},
   "source": [
    "_Импорт библиотек_"
   ]
  },
  {
   "cell_type": "code",
   "execution_count": 134,
   "metadata": {},
   "outputs": [],
   "source": [
    "import numpy as np\n",
    "import scipy.special\n",
    "from random import randint\n",
    "import random\n",
    "from PIL import Image\n",
    "import math\n",
    "\n",
    "CONST_IMG_SIZE = 100"
   ]
  },
  {
   "cell_type": "markdown",
   "metadata": {},
   "source": [
    "_Функция преобразования изображения в массив из 0 и 1_"
   ]
  },
  {
   "cell_type": "code",
   "execution_count": 135,
   "metadata": {},
   "outputs": [],
   "source": [
    "def imageToArray(filename):\n",
    "    openedImage = Image.open(filename)\n",
    "    grayColorImage = openedImage.convert('L')\n",
    "    bwColorImage = np.asarray(grayColorImage).copy()\n",
    "\n",
    "    for i in range(int(len(bwColorImage)/2)):\n",
    "        for j in range(int(len(bwColorImage)/2)):\n",
    "            bwColorImage[i][j] = 1 if bwColorImage[i][j] == 0 else 0\n",
    "    \n",
    "    return bwColorImage"
   ]
  },
  {
   "cell_type": "markdown",
   "metadata": {},
   "source": [
    "_Функция для масштабирования входного изображения_"
   ]
  },
  {
   "cell_type": "code",
   "execution_count": 136,
   "metadata": {},
   "outputs": [],
   "source": [
    "def scaleImage(arrayFromImage, n):\n",
    "    tmp = [[0 for x in range(n)] for y in range(n)] \n",
    "            \n",
    "    xmin = n\n",
    "    xmax = -1\n",
    "    ymin = n \n",
    "    ymax = -1\n",
    "    \n",
    "    for i in range(n):\n",
    "        for j in range(n):\n",
    "            if arrayFromImage[i][j] == 1:\n",
    "                if j < xmin: xmin = j\n",
    "                if j > xmax: xmax = j\n",
    "                if i < ymin: ymin = i\n",
    "                if i > ymax: ymax = i\n",
    "                    \n",
    "            tmp[i][j] = arrayFromImage[ymin + int((i / n) * (ymax - ymin + 1))][xmin + int((j / n) * (xmax - xmin + 1))]\n",
    "            \n",
    "            arrayFromImage[i][j] = tmp[i][j]\n",
    "         \n",
    "    return arrayFromImage"
   ]
  },
  {
   "cell_type": "markdown",
   "metadata": {},
   "source": [
    "_Функция обработки входного изображения_"
   ]
  },
  {
   "cell_type": "code",
   "execution_count": 137,
   "metadata": {},
   "outputs": [],
   "source": [
    "def imageProcessing(filename):\n",
    "    arrayFromImage = imageToArray(filename)\n",
    "    scaledImage = scaleImage(arrayFromImage, CONST_IMG_SIZE)\n",
    "    \n",
    "    return scaledImage.ravel()"
   ]
  },
  {
   "cell_type": "markdown",
   "metadata": {},
   "source": [
    "_Создание обучающей выборки_"
   ]
  },
  {
   "cell_type": "code",
   "execution_count": 138,
   "metadata": {},
   "outputs": [],
   "source": [
    "listToLearn_S = []\n",
    "listToLearn_4 = []\n",
    "\n",
    "listToTest = []\n",
    "\n",
    "# Заполняем данные для обучения\n",
    "for num in range(1, 23):\n",
    "    # массивы картинок с символом S \n",
    "    filename_S = \"~/Learn - Symbol S/\" + str(num) + '.png'\n",
    "    listToLearn_S.append(imageProcessing(filename_S))\n",
    "    \n",
    "    # массивы картинок с символом 4 \n",
    "    filename_4 = \"~/Learn - Symbol 4/\" + str(num) + '.png'\n",
    "    listToLearn_4.append(imageProcessing(filename_4))"
   ]
  },
  {
   "cell_type": "markdown",
   "metadata": {},
   "source": [
    "_Заполнение массива весов случайными значениями из диапазона [-0.1, 0.1]_"
   ]
  },
  {
   "cell_type": "code",
   "execution_count": 163,
   "metadata": {},
   "outputs": [],
   "source": [
    "imageSize = CONST_IMG_SIZE * CONST_IMG_SIZE\n",
    "weights = [0 for x in range(imageSize)]\n",
    "\n",
    "for i in range(imageSize):\n",
    "    weights[i] = random.uniform(-0.1, 0.1)\n"
   ]
  },
  {
   "cell_type": "markdown",
   "metadata": {},
   "source": [
    "_Функция тренировки сети_"
   ]
  },
  {
   "cell_type": "code",
   "execution_count": 140,
   "metadata": {},
   "outputs": [],
   "source": [
    "# Коэффициент скорости обучения\n",
    "speed = 0.7\n",
    "# Порог функции активации\n",
    "bias = 5\n",
    "\n",
    "def trainNet(symbol, rightAnswer):\n",
    "    # Рассчитываем взвешенную сумму\n",
    "    net = 0\n",
    "    for i in range(imageSize):\n",
    "        net += symbol[i] * weights[i]\n",
    "        \n",
    "    # Превышен ли порог? (Да - сеть думает, что это S. Нет - сеть думает, что это 4)\n",
    "    perceptonResult = 1 if net >= bias else 0\n",
    "    \n",
    "    # Сопоставляем ответ сети с корректным ответом\n",
    "    checkPerceptonResult = perceptonResult == rightAnswer\n",
    "\n",
    "    print(\"perceptonResult \", perceptonResult, \" rightAnswer \", rightAnswer, \" checkPerceptonResult \",checkPerceptonResult)\n",
    "    \n",
    "    # Если сеть ошиблась и не распознала символ\n",
    "    if checkPerceptonResult == False:\n",
    "        weightCorrectionValue = 1 if perceptonResult == 0 else -1\n",
    "        \n",
    "        for i in range(imageSize):\n",
    "            weights[i] = weights[i] + speed * weightCorrectionValue * symbol[i]"
   ]
  },
  {
   "cell_type": "markdown",
   "metadata": {},
   "source": [
    "_Функция распознования символов_"
   ]
  },
  {
   "cell_type": "code",
   "execution_count": 141,
   "metadata": {},
   "outputs": [],
   "source": [
    "def startDetection(symbol):\n",
    "    # Рассчитываем взвешенную сумму\n",
    "    net = 0\n",
    "    for i in range(imageSize):\n",
    "        net += symbol[i] * weights[i]\n",
    "        \n",
    "    # Превышен ли порог? (Да - сеть думает, что это S. Нет - сеть думает, что это 4)\n",
    "    perceptonResult = 1 if net >= bias else 0\n",
    "    \n",
    "    return perceptonResult"
   ]
  },
  {
   "cell_type": "markdown",
   "metadata": {},
   "source": [
    "_Тренировка сети_"
   ]
  },
  {
   "cell_type": "code",
   "execution_count": 164,
   "metadata": {},
   "outputs": [
    {
     "name": "stdout",
     "output_type": "stream",
     "text": [
      "perceptonResult  1  rightAnswer  0  checkPerceptonResult  False\n",
      "perceptonResult  0  rightAnswer  0  checkPerceptonResult  True\n",
      "perceptonResult  0  rightAnswer  0  checkPerceptonResult  True\n",
      "perceptonResult  0  rightAnswer  0  checkPerceptonResult  True\n",
      "perceptonResult  0  rightAnswer  0  checkPerceptonResult  True\n",
      "perceptonResult  0  rightAnswer  1  checkPerceptonResult  False\n",
      "perceptonResult  0  rightAnswer  1  checkPerceptonResult  False\n",
      "perceptonResult  1  rightAnswer  0  checkPerceptonResult  False\n",
      "perceptonResult  0  rightAnswer  0  checkPerceptonResult  True\n",
      "perceptonResult  0  rightAnswer  0  checkPerceptonResult  True\n",
      "perceptonResult  0  rightAnswer  1  checkPerceptonResult  False\n",
      "perceptonResult  1  rightAnswer  0  checkPerceptonResult  False\n",
      "perceptonResult  1  rightAnswer  1  checkPerceptonResult  True\n",
      "perceptonResult  0  rightAnswer  0  checkPerceptonResult  True\n",
      "perceptonResult  1  rightAnswer  0  checkPerceptonResult  False\n",
      "perceptonResult  0  rightAnswer  1  checkPerceptonResult  False\n",
      "perceptonResult  0  rightAnswer  0  checkPerceptonResult  True\n",
      "perceptonResult  0  rightAnswer  1  checkPerceptonResult  False\n",
      "perceptonResult  1  rightAnswer  0  checkPerceptonResult  False\n",
      "perceptonResult  0  rightAnswer  1  checkPerceptonResult  False\n",
      "perceptonResult  1  rightAnswer  1  checkPerceptonResult  True\n",
      "perceptonResult  1  rightAnswer  1  checkPerceptonResult  True\n",
      "perceptonResult  1  rightAnswer  1  checkPerceptonResult  True\n",
      "perceptonResult  1  rightAnswer  0  checkPerceptonResult  False\n",
      "perceptonResult  1  rightAnswer  0  checkPerceptonResult  False\n",
      "perceptonResult  0  rightAnswer  1  checkPerceptonResult  False\n",
      "perceptonResult  1  rightAnswer  1  checkPerceptonResult  True\n",
      "perceptonResult  1  rightAnswer  1  checkPerceptonResult  True\n",
      "perceptonResult  1  rightAnswer  1  checkPerceptonResult  True\n",
      "perceptonResult  1  rightAnswer  1  checkPerceptonResult  True\n",
      "perceptonResult  1  rightAnswer  0  checkPerceptonResult  False\n",
      "perceptonResult  0  rightAnswer  1  checkPerceptonResult  False\n",
      "perceptonResult  1  rightAnswer  1  checkPerceptonResult  True\n",
      "perceptonResult  1  rightAnswer  0  checkPerceptonResult  False\n",
      "perceptonResult  0  rightAnswer  0  checkPerceptonResult  True\n",
      "perceptonResult  0  rightAnswer  0  checkPerceptonResult  True\n",
      "perceptonResult  0  rightAnswer  1  checkPerceptonResult  False\n",
      "perceptonResult  1  rightAnswer  1  checkPerceptonResult  True\n",
      "perceptonResult  1  rightAnswer  1  checkPerceptonResult  True\n",
      "perceptonResult  0  rightAnswer  0  checkPerceptonResult  True\n",
      "perceptonResult  1  rightAnswer  1  checkPerceptonResult  True\n",
      "perceptonResult  1  rightAnswer  0  checkPerceptonResult  False\n",
      "perceptonResult  0  rightAnswer  0  checkPerceptonResult  True\n",
      "perceptonResult  0  rightAnswer  1  checkPerceptonResult  False\n",
      "Тренировка сети завершена!\n"
     ]
    }
   ],
   "source": [
    "j = 0 \n",
    "learningRange = 44\n",
    "arrayOfRandomIndeces = []\n",
    "\n",
    "for i in range(int(learningRange / 2)):\n",
    "    arrayOfRandomIndeces.append(0)\n",
    "    arrayOfRandomIndeces.append(1)\n",
    "    \n",
    "random.shuffle(arrayOfRandomIndeces)\n",
    "\n",
    "for i in range(learningRange):\n",
    "    randomIndex = arrayOfRandomIndeces[i]\n",
    "    listsForRandom = [listToLearn_4[j], listToLearn_S[j]]\n",
    "    trainNet(listsForRandom[randomIndex], randomIndex)\n",
    " \n",
    "    if (j + 1) == 21:\n",
    "        j = 0\n",
    "    else:\n",
    "        j += 1\n",
    "        \n",
    "print(\"Тренировка сети завершена!\")"
   ]
  },
  {
   "cell_type": "markdown",
   "metadata": {},
   "source": [
    "_Прогон по обучающей выборке_"
   ]
  },
  {
   "cell_type": "code",
   "execution_count": 165,
   "metadata": {},
   "outputs": [
    {
     "name": "stdout",
     "output_type": "stream",
     "text": [
      "S | ответ сети:  s\n",
      "4 | ответ сети:  4\n",
      "\n",
      "\n",
      "S | ответ сети:  s\n",
      "4 | ответ сети:  4\n",
      "\n",
      "\n",
      "S | ответ сети:  s\n",
      "4 | ответ сети:  4\n",
      "\n",
      "\n",
      "S | ответ сети:  s\n",
      "4 | ответ сети:  4\n",
      "\n",
      "\n",
      "S | ответ сети:  s\n",
      "4 | ответ сети:  4\n",
      "\n",
      "\n"
     ]
    }
   ],
   "source": [
    "for num in range(5):\n",
    "    result = startDetection(listToLearn_S[num])\n",
    "    print(\"S | ответ сети: \", \"s\" if result == 1 else \"4\" )\n",
    "\n",
    "    result = startDetection(listToLearn_4[num])\n",
    "    print(\"4 | ответ сети: \", \"s\" if result == 1 else \"4\" )\n",
    "    print('\\n')"
   ]
  },
  {
   "cell_type": "markdown",
   "metadata": {},
   "source": [
    "_Прогон по тестовой выборке_"
   ]
  },
  {
   "cell_type": "code",
   "execution_count": 171,
   "metadata": {},
   "outputs": [
    {
     "name": "stdout",
     "output_type": "stream",
     "text": [
      "S | ответ сети:  s\n"
     ]
    }
   ],
   "source": [
    "filename_S = \"~/Test - Symbol S/2.png\"\n",
    "\n",
    "result = startDetection(imageProcessing(filename_S))\n",
    "print(\"S | ответ сети: \", \"s\" if result == 1 else \"4\" )\n"
   ]
  },
  {
   "cell_type": "code",
   "execution_count": 174,
   "metadata": {},
   "outputs": [
    {
     "name": "stdout",
     "output_type": "stream",
     "text": [
      "4 | ответ сети:  4\n"
     ]
    }
   ],
   "source": [
    "filename_4 = \"~/Test - Symbol 4/3.png\"\n",
    "\n",
    "result = startDetection(imageProcessing(filename_4))\n",
    "print(\"4 | ответ сети: \", \"s\" if result == 1 else \"4\" )"
   ]
  },
  {
   "cell_type": "code",
   "execution_count": null,
   "metadata": {},
   "outputs": [],
   "source": []
  },
  {
   "cell_type": "code",
   "execution_count": null,
   "metadata": {},
   "outputs": [],
   "source": []
  }
 ],
 "metadata": {
  "kernelspec": {
   "display_name": "Python 3",
   "language": "python",
   "name": "python3"
  },
  "language_info": {
   "codemirror_mode": {
    "name": "ipython",
    "version": 3
   },
   "file_extension": ".py",
   "mimetype": "text/x-python",
   "name": "python",
   "nbconvert_exporter": "python",
   "pygments_lexer": "ipython3",
   "version": "3.7.6"
  }
 },
 "nbformat": 4,
 "nbformat_minor": 2
}
